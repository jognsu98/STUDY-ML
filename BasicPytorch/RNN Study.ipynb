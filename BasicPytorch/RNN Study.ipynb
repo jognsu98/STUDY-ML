{
 "cells": [
  {
   "cell_type": "code",
   "execution_count": 1,
   "metadata": {},
   "outputs": [],
   "source": [
    "import torch\n",
    "from torch import nn, optim"
   ]
  },
  {
   "cell_type": "code",
   "execution_count": 9,
   "metadata": {},
   "outputs": [],
   "source": [
    "emb = nn.Embedding(10000, 20, padding_idx = 0)  # Word2Vec : CBOW, Skip-Gram \n",
    "inp = torch.tensor([1,2,5,2,10], dtype = torch.int64) ### Extract by Index concept\n",
    "out = emb(inp)"
   ]
  },
  {
   "cell_type": "code",
   "execution_count": 11,
   "metadata": {},
   "outputs": [],
   "source": [
    "import glob\n",
    "import pathlib\n",
    "import re"
   ]
  },
  {
   "cell_type": "code",
   "execution_count": 20,
   "metadata": {},
   "outputs": [],
   "source": [
    "### Need Check\n",
    "#remove_marks_regex = re.compile(\"[,|.|(|)|[|]|*:;]|<.*?>\")\n",
    "remove_marks_regex = re.compile(\"[,|.|(|)|[|]]|<.*?>\")\n",
    "shift_marks_regex = re.compile(\"([?!])\")"
   ]
  },
  {
   "cell_type": "code",
   "execution_count": 22,
   "metadata": {},
   "outputs": [],
   "source": [
    "def text2ids(text, vocab_dict):\n",
    "    # !? 이외의 기호 삭제\n",
    "    text = remove_marks_regex.sub(\"\", text)\n",
    "    # !?와 단어 사이에 공백 삽입\n",
    "    text = shift_marks_regex.sub(r\" |1 \", text)\n",
    "    \n",
    "    tokens = text.split()\n",
    "    \n",
    "    return [vocab_dict.get(token, 0) for token in tokens]\n",
    "\n",
    "def list2tensor(token_idxes, max_len = 100, padding = True):\n",
    "    if len(token_idxes) > max_len:\n",
    "        token_idxes = token_idxes[:max_len]\n",
    "    \n",
    "    n_tokens = len(token_idxes)\n",
    "    \n",
    "    if padding : \n",
    "        token_idxes = token_idxes + [0]*(max_len - len(token_idxes))\n",
    "        \n",
    "    return torch.tensor(token_idxes, dtype = torch.int64), n_tokens\n",
    "\n",
    "        \n",
    "        "
   ]
  },
  {
   "cell_type": "code",
   "execution_count": 24,
   "metadata": {},
   "outputs": [],
   "source": [
    "import torch\n",
    "from torch import nn, optim\n",
    "from torch.utils.data import (Dataset, DataLoader, TensorDataset)"
   ]
  },
  {
   "cell_type": "code",
   "execution_count": 27,
   "metadata": {},
   "outputs": [],
   "source": [
    "class IMDBDataset(Dataset):\n",
    "    def __init__(self, dir_path, train = True, max_len = 100, padding = True):\n",
    "        self.max_len = max_len\n",
    "        self.padding = padding\n",
    "        \n",
    "        ### ????? ####\n",
    "        path = pathlib.Path(dir_path)\n",
    "        vocab_path = path.joinpath(\"imdb.vocab\")\n",
    "        \n",
    "        self.vocab_array = vocab_path.open().read().strip().splitlines()\n",
    "        \n",
    "        self.vocab_dict = dict((w, i + 1) for (i, w) in enumerate(self.vocab_array))\n",
    "        \n",
    "        if train :\n",
    "            target_path = path.joinpath(\"train\")\n",
    "        else :\n",
    "            target_path = path.joinpath(\"test\")\n",
    "            \n",
    "        pos_files = sorted(glob.glob(str(target_path.joinpath(\"pos/*.txt\"))))\n",
    "        neg_files = sorted(glob.glob(str(target_path.joinpath(\"neg/*.txt\"))))\n",
    "        \n",
    "        # Pos : 1, Neg : 0 Label부여서\n",
    "        # (file_path, label) Tuple List 작성\n",
    "        \n",
    "        self.labeled_files = list(zip([0]*len(neg_files), neg_files)) + list(zip([1]*len(pos_files), pos_files))\n",
    "    \n",
    "    def vocab_size(self):\n",
    "        return len(self.vocab_array)\n",
    "    \n",
    "    def __len__(self):\n",
    "        return len(self.labeled_files)\n",
    "    \n",
    "    def __getitem__(self, idx):\n",
    "        label, f = self.labeled_files[idx]\n",
    "        \n",
    "        data = open(f).read().lower()\n",
    "        \n",
    "        data = text2ids(data, self.vocab_dict)\n",
    "        \n",
    "        data, n_tokens = list2tensor(data, self.max_len, self.padding)\n",
    "        \n",
    "        return data, label, n_tokens\n",
    "        \n",
    "    "
   ]
  },
  {
   "cell_type": "code",
   "execution_count": 28,
   "metadata": {},
   "outputs": [],
   "source": [
    "class SequenceTaggingNet(nn.Module):\n",
    "    def __init__(self, num_embeddings, embedding_dim = 50, hidden_size = 50, num_layers = 1, dropout = 0.2):\n",
    "        super().__init__()\n",
    "        \n",
    "        self.emb = nn.Embedding(num_embeddings, embedding_dim, padding_idx = 0)\n",
    "        self.lstm = nn.LSTM(embedding_dim, hidden_size, num_layers, batch_first = True, dropout = dropout)\n",
    "        \n",
    "        self.linear = nn.Linear(hidden_size, 1)\n",
    "        \n",
    "    def forward(self,x, h0 = None, l = None):\n",
    "        # ID를 Embedding 벡터로 변환\n",
    "        # x는 (batch_size, step_size)\n",
    "        # -> (batch_size, step_size, embdedding_dim)\n",
    "        x = self.emb(x)\n",
    "        # x는 (batch_size, step_size, embedding_dim)\n",
    "        # -> (batch_size, step_size, hidden_dim)\n",
    "        x, h = self.lstm(x, h0)\n",
    "        # x는 (batch_size, step_size, hidden_dim)\n",
    "        # -> (batch_size, 1)\n",
    "        \n",
    "        if l is not None :\n",
    "            x = x[list(range(len(x))), l -1, :]\n",
    "        else :\n",
    "            x = x[:, -1, :]\n",
    "            \n",
    "        s = self.linear(x)\n",
    "        \n",
    "        # (batch_size, 1) -> (batch_size, )\n",
    "        x = x.squeeze()\n",
    "        \n",
    "        return x"
   ]
  },
  {
   "cell_type": "code",
   "execution_count": null,
   "metadata": {},
   "outputs": [],
   "source": []
  },
  {
   "cell_type": "code",
   "execution_count": null,
   "metadata": {},
   "outputs": [],
   "source": []
  }
 ],
 "metadata": {
  "kernelspec": {
   "display_name": "Python 3",
   "language": "python",
   "name": "python3"
  },
  "language_info": {
   "codemirror_mode": {
    "name": "ipython",
    "version": 3
   },
   "file_extension": ".py",
   "mimetype": "text/x-python",
   "name": "python",
   "nbconvert_exporter": "python",
   "pygments_lexer": "ipython3",
   "version": "3.6.5"
  }
 },
 "nbformat": 4,
 "nbformat_minor": 2
}
